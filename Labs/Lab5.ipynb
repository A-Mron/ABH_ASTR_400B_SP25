{
 "cells": [
  {
   "cell_type": "markdown",
   "metadata": {},
   "source": [
    "# Lab 5 ASTR 400B \n"
   ]
  },
  {
   "cell_type": "code",
   "execution_count": 2,
   "metadata": {
    "execution": {
     "iopub.execute_input": "2025-02-25T21:11:48.628810Z",
     "iopub.status.busy": "2025-02-25T21:11:48.628026Z",
     "iopub.status.idle": "2025-02-25T21:11:49.516703Z",
     "shell.execute_reply": "2025-02-25T21:11:49.515580Z",
     "shell.execute_reply.started": "2025-02-25T21:11:48.628765Z"
    }
   },
   "outputs": [],
   "source": [
    "# Import Modules \n",
    "import numpy as np\n",
    "import matplotlib.pyplot as plt\n",
    "import matplotlib\n",
    "from astropy import constants as const # import astropy constants\n",
    "import astropy.units as u"
   ]
  },
  {
   "cell_type": "markdown",
   "metadata": {},
   "source": [
    "# Part A :  Mass to Light Ratios \n",
    "\n",
    "Wolf et al. 2010 \n",
    "\n",
    "$M(<R_{half}) = \\frac {4}{G}\\sigma^2 R_e$\n",
    "\n",
    "Where $R_{half}$ = 3D half mass radius \n",
    "and $R_e$ is the 2D half mass radius of stars (observed)\n",
    "\n",
    "Determine which of the following two systems are galaxies:\n",
    "\n",
    "The system 47 Tuc is observed with:  $\\sigma = 17.3$ km/s, $R_e = 0.5$ pc, $L_v \\sim 10^5 L_\\odot$ \n",
    "\n",
    "The system Willman I is observed with: $\\sigma = 4.3$ km/s, $R_e = 25$ pc, $L_v = 10^3 L_\\odot$"
   ]
  },
  {
   "cell_type": "code",
   "execution_count": 3,
   "metadata": {
    "execution": {
     "iopub.execute_input": "2025-02-25T21:11:49.518868Z",
     "iopub.status.busy": "2025-02-25T21:11:49.518559Z",
     "iopub.status.idle": "2025-02-25T21:11:49.524336Z",
     "shell.execute_reply": "2025-02-25T21:11:49.523499Z",
     "shell.execute_reply.started": "2025-02-25T21:11:49.518848Z"
    }
   },
   "outputs": [],
   "source": [
    "# Gravitational Constant in the desired units\n",
    "# kpc^3/Gyr^2/Msun\n",
    "Grav = const.G.to(u.kpc**3/u.Gyr**2/u.Msun)"
   ]
  },
  {
   "cell_type": "code",
   "execution_count": 4,
   "metadata": {
    "execution": {
     "iopub.execute_input": "2025-02-25T21:11:49.525565Z",
     "iopub.status.busy": "2025-02-25T21:11:49.525325Z",
     "iopub.status.idle": "2025-02-25T21:11:49.567536Z",
     "shell.execute_reply": "2025-02-25T21:11:49.566504Z",
     "shell.execute_reply.started": "2025-02-25T21:11:49.525545Z"
    }
   },
   "outputs": [],
   "source": [
    "def WolfMass(sigma, re):\n",
    "    \"\"\" Function that defines the Wolf mass estimator from Wolf+ 2010\n",
    "    PARAMETERS\n",
    "    ----------\n",
    "        sigma: astropy quantity\n",
    "            1D line of sight velocity dispersion in km/s\n",
    "        re: astropy quantity\n",
    "            Effective radius, 2D radius enclosing half the\n",
    "            stellar mass in kpc\n",
    "    OUTPUTS\n",
    "    -------\n",
    "        mWolf: Returns the dynamical mass within the \n",
    "            half light radius in Msun\n",
    "    \"\"\"\n",
    "    \n",
    "    sigmaKpcGyr = sigma.to(u.kpc/u.Gyr) # velocity dispersion units\n",
    "    \n",
    "    mWolf = 4/Grav*sigmaKpcGyr**2*re # Wolf mass estimator\n",
    "    \n",
    "    return mWolf"
   ]
  },
  {
   "cell_type": "code",
   "execution_count": 5,
   "metadata": {
    "execution": {
     "iopub.execute_input": "2025-02-25T21:11:49.570415Z",
     "iopub.status.busy": "2025-02-25T21:11:49.569929Z",
     "iopub.status.idle": "2025-02-25T21:11:49.612697Z",
     "shell.execute_reply": "2025-02-25T21:11:49.611618Z",
     "shell.execute_reply.started": "2025-02-25T21:11:49.570391Z"
    }
   },
   "outputs": [],
   "source": [
    "#47 Tuc paramters \n",
    "lumtuc = 1e5*u.Lsun #luminocity\n",
    "sigmatuc = 17.3*u.km/u.s #1D los vel dispution\n",
    "retuc = 0.5/1000*u.kpc #effective radisu (2D half light)"
   ]
  },
  {
   "cell_type": "code",
   "execution_count": 6,
   "metadata": {
    "execution": {
     "iopub.execute_input": "2025-02-25T21:11:49.614475Z",
     "iopub.status.busy": "2025-02-25T21:11:49.614179Z",
     "iopub.status.idle": "2025-02-25T21:11:49.656663Z",
     "shell.execute_reply": "2025-02-25T21:11:49.655624Z",
     "shell.execute_reply.started": "2025-02-25T21:11:49.614451Z"
    }
   },
   "outputs": [
    {
     "name": "stdout",
     "output_type": "stream",
     "text": [
      "1.39e+05 solMass\n"
     ]
    }
   ],
   "source": [
    "#Dynamicsal mass for 47 tuc\n",
    "masstuc = WolfMass(sigmatuc, retuc)\n",
    "print(f\"{masstuc:.2e}\")"
   ]
  },
  {
   "cell_type": "code",
   "execution_count": 7,
   "metadata": {
    "execution": {
     "iopub.execute_input": "2025-02-25T21:11:49.658216Z",
     "iopub.status.busy": "2025-02-25T21:11:49.657955Z",
     "iopub.status.idle": "2025-02-25T21:11:49.703999Z",
     "shell.execute_reply": "2025-02-25T21:11:49.702853Z",
     "shell.execute_reply.started": "2025-02-25T21:11:49.658196Z"
    }
   },
   "outputs": [
    {
     "name": "stdout",
     "output_type": "stream",
     "text": [
      "Mass to light radio of 47 Tuc: 1.4 solMass / solLum\n"
     ]
    }
   ],
   "source": [
    "#Assume M/L ~ 1\n",
    "print(f\"Mass to light radio of 47 Tuc: {np.around(masstuc/lumtuc,1)}\")"
   ]
  },
  {
   "cell_type": "code",
   "execution_count": 8,
   "metadata": {
    "execution": {
     "iopub.execute_input": "2025-02-25T21:11:49.705322Z",
     "iopub.status.busy": "2025-02-25T21:11:49.705009Z",
     "iopub.status.idle": "2025-02-25T21:11:49.752435Z",
     "shell.execute_reply": "2025-02-25T21:11:49.751382Z",
     "shell.execute_reply.started": "2025-02-25T21:11:49.705299Z"
    }
   },
   "outputs": [],
   "source": [
    "#Wullman 1 parmerters\n",
    "lumwil = 1e3*u.Lsun #luminocity\n",
    "sigmawil = 4.3*u.km/u.s #1D los vel distripution\n",
    "rewil = 25/1000*u.kpc #effective radius"
   ]
  },
  {
   "cell_type": "code",
   "execution_count": 9,
   "metadata": {
    "execution": {
     "iopub.execute_input": "2025-02-25T21:11:49.754262Z",
     "iopub.status.busy": "2025-02-25T21:11:49.753819Z",
     "iopub.status.idle": "2025-02-25T21:11:49.799002Z",
     "shell.execute_reply": "2025-02-25T21:11:49.797912Z",
     "shell.execute_reply.started": "2025-02-25T21:11:49.754237Z"
    }
   },
   "outputs": [
    {
     "name": "stdout",
     "output_type": "stream",
     "text": [
      "4.30e+05 solMass\n"
     ]
    }
   ],
   "source": [
    "#Dynamical Mass of Willman\n",
    "masswil = WolfMass(sigmawil,rewil)\n",
    "print(f\"{masswil:.2e}\")"
   ]
  },
  {
   "cell_type": "code",
   "execution_count": 10,
   "metadata": {
    "execution": {
     "iopub.execute_input": "2025-02-25T21:11:49.800770Z",
     "iopub.status.busy": "2025-02-25T21:11:49.800300Z",
     "iopub.status.idle": "2025-02-25T21:11:49.844427Z",
     "shell.execute_reply": "2025-02-25T21:11:49.843347Z",
     "shell.execute_reply.started": "2025-02-25T21:11:49.800746Z"
    }
   },
   "outputs": [
    {
     "name": "stdout",
     "output_type": "stream",
     "text": [
      "Mass to light radio of WIllman I: 429.9 solMass / solLum\n"
     ]
    }
   ],
   "source": [
    "#Assume M/L ~ 1\n",
    "print(f\"Mass to light radio of WIllman I: {np.around(masswil/lumwil,1)}\")"
   ]
  },
  {
   "cell_type": "markdown",
   "metadata": {},
   "source": [
    "# Part B :  Stellar to Halo Mass Relation\n",
    "\n",
    "Following the work of [Moster et al. 2013 (MNRAS, 428, 3121)](https://ui.adsabs.harvard.edu/abs/2013MNRAS.428.3121M/abstract)\n",
    "\n",
    "\n",
    "`Equation 2:`                  $ \\frac{m}{M} = 2N \\left [ \\left ( \\frac{M}{M_1} \\right)^{-\\beta} + \\left (\\frac{M}{M_1} \\right)^{\\gamma} \\right]$ \n",
    "\n",
    "$m$ = stellar mass, $M$ = halo mass\n",
    "\n",
    "`Equation 11:`        log $M_1(z) = M_{10} + M_{11} \\frac{z}{z+1} $ \n",
    "\n",
    "`Equation 12:`        $N(z) = N_{10} + N_{11} \\frac{z}{z+1} $\n",
    "\n",
    "`Equation 13:`         $\\beta(z) = \\beta_{10} + \\beta_{11} \\frac{z}{z+1} $\n",
    "\n",
    "`Equation 14:`         $\\gamma(z) = \\gamma_{10} + \\gamma_{11} \\frac{z}{z+1} $"
   ]
  },
  {
   "cell_type": "markdown",
   "metadata": {},
   "source": [
    "# Q1 \n",
    "\n",
    "Modify the class below by adding a function called `StellarMass` that uses the `SHMratio` function and returns the stellar mass."
   ]
  },
  {
   "cell_type": "code",
   "execution_count": 11,
   "metadata": {
    "execution": {
     "iopub.execute_input": "2025-02-25T21:11:49.847798Z",
     "iopub.status.busy": "2025-02-25T21:11:49.847304Z",
     "iopub.status.idle": "2025-02-25T21:11:49.887744Z",
     "shell.execute_reply": "2025-02-25T21:11:49.886650Z",
     "shell.execute_reply.started": "2025-02-25T21:11:49.847773Z"
    }
   },
   "outputs": [],
   "source": [
    "class AbundanceMatching:\n",
    "    \"\"\" Class to define the abundance matching relations from \n",
    "    Moster et al. 2013, which relate the stellar mass of a galaxy\n",
    "    to the expected dark matter halo mass, according to \n",
    "    Lambda Cold Dark Matter (LCDM) theory \"\"\"\n",
    "    \n",
    "    \n",
    "    def __init__(self, mhalo, z):\n",
    "        \"\"\" Initialize the class\n",
    "        \n",
    "        PARAMETERS\n",
    "        ----------\n",
    "            mhalo: float\n",
    "                Halo mass in Msun\n",
    "            z: float\n",
    "                redshift\n",
    "        \"\"\"\n",
    "        \n",
    "        #initializing the parameters:\n",
    "        self.mhalo = mhalo # Halo Mass in Msun\n",
    "        self.z = z  # Redshift\n",
    "        \n",
    "        \n",
    "    def logM1(self):\n",
    "        \"\"\"eq. 11 of Moster 2013\n",
    "        OUTPUT: \n",
    "            M1: float \n",
    "                characteristic mass in log(Msun)\n",
    "        \"\"\"\n",
    "        M10      = 11.59\n",
    "        M11      = 1.195 \n",
    "        return M10 + M11*(self.z/(1+self.z))  \n",
    "    \n",
    "    \n",
    "    def N(self):\n",
    "        \"\"\"eq. 12 of Moster 2013\n",
    "        OUTPUT: \n",
    "            Normalization for eq. 2\n",
    "        \"\"\"\n",
    "        N10      = 0.0351\n",
    "        N11      = -0.0247\n",
    "    \n",
    "        return N10 + N11*(self.z/(1+self.z))\n",
    "    \n",
    "    \n",
    "    def Beta(self):\n",
    "        \"\"\"eq. 13 of Moster 2013\n",
    "        OUTPUT:  power of the low mass slope\"\"\"\n",
    "        beta10      = 1.376\n",
    "        beta11      = -0.826\n",
    "    \n",
    "        return beta10 + beta11*(self.z/(1+self.z))\n",
    "    \n",
    "    def Gamma(self):\n",
    "        \"\"\"eq. 14 of Moster 2013\n",
    "        OUTPUT: power of the high mass slope \"\"\"\n",
    "        gamma10      = 0.608\n",
    "        gamma11      = 0.329\n",
    "    \n",
    "        return gamma10 + gamma11*(self.z/(1+self.z))\n",
    "    \n",
    "    \n",
    "    def SHMratio(self):\n",
    "        \"\"\" \n",
    "        eq. 2 of Moster + 2013\n",
    "        The ratio of the stellar mass to the halo mass\n",
    "        \n",
    "        OUTPUT: \n",
    "            SHMratio float\n",
    "                Stellar mass to halo mass ratio\n",
    "        \"\"\"\n",
    "        M1 = 10**self.logM1() # Converting characteristic mass \n",
    "        # to Msun from Log(Msun)\n",
    "        \n",
    "        A = (self.mhalo/M1)**(-self.Beta())  # Low mass end\n",
    "        \n",
    "        B = (self.mhalo/M1)**(self.Gamma())   # High mass end\n",
    "        \n",
    "        Norm = 2*self.N() # Normalization\n",
    "    \n",
    "        SHMratio = Norm*(A+B)**(-1)\n",
    "    \n",
    "        return SHMratio \n",
    "    \n",
    " # Q1: add a function to the class that takes the SHM ratio and returns \n",
    "# The stellar mass \n",
    "    def StellarMass(self):\n",
    "        \"\"\"\n",
    "        Method to compute the stellar mass using eq. 2 of Moster +2013 \n",
    "        (stelar mass/halo mass ration\n",
    "\n",
    "        OUTPUT: \n",
    "            starmass : float, total stellar mass in Msun\n",
    "        \"\"\"\n",
    "        starMass = self.mhalo*self.SHMratio()\n",
    "        return starMass\n",
    "        \n",
    "\n"
   ]
  },
  {
   "cell_type": "markdown",
   "metadata": {},
   "source": [
    "# Part C : Plot the Moster Relation\n",
    "\n",
    "Reproduce the below figure from Moster + 2013 \n",
    "Plot this for z=0, 0.5, 1, 2\n",
    "\n",
    "![mos](./MosterFig.png)"
   ]
  },
  {
   "cell_type": "code",
   "execution_count": 12,
   "metadata": {
    "execution": {
     "iopub.execute_input": "2025-02-25T21:11:49.889610Z",
     "iopub.status.busy": "2025-02-25T21:11:49.889128Z",
     "iopub.status.idle": "2025-02-25T21:11:49.933345Z",
     "shell.execute_reply": "2025-02-25T21:11:49.932285Z",
     "shell.execute_reply.started": "2025-02-25T21:11:49.889584Z"
    }
   },
   "outputs": [],
   "source": [
    "mh = np.logspace(10,15,1000) # Logarithmically spaced array"
   ]
  },
  {
   "cell_type": "code",
   "execution_count": 15,
   "metadata": {
    "execution": {
     "iopub.execute_input": "2025-02-25T21:14:24.259666Z",
     "iopub.status.busy": "2025-02-25T21:14:24.259238Z",
     "iopub.status.idle": "2025-02-25T21:14:24.265166Z",
     "shell.execute_reply": "2025-02-25T21:14:24.264150Z",
     "shell.execute_reply.started": "2025-02-25T21:14:24.259634Z"
    }
   },
   "outputs": [],
   "source": [
    "# Define Instances of the Class for each redshift\n",
    "MosterZ0 = AbundanceMatching(mh,0) #reshift 0\n",
    "MosterZp5 = AbundanceMatching(mh,0.5) #reshift 0.5\n",
    "MosterZ1 = AbundanceMatching(mh,1) #reshift 1\n",
    "MosterZ2 = AbundanceMatching(mh,2) #reshift 2"
   ]
  },
  {
   "cell_type": "code",
   "execution_count": 23,
   "metadata": {
    "execution": {
     "iopub.execute_input": "2025-02-25T21:23:43.079755Z",
     "iopub.status.busy": "2025-02-25T21:23:43.079363Z",
     "iopub.status.idle": "2025-02-25T21:23:43.437648Z",
     "shell.execute_reply": "2025-02-25T21:23:43.436692Z",
     "shell.execute_reply.started": "2025-02-25T21:23:43.079731Z"
    }
   },
   "outputs": [
    {
     "data": {
      "image/png": "[encoded data removed]",
      "text/plain": [
       "<Figure size 1000x800 with 1 Axes>"
      ]
     },
     "metadata": {},
     "output_type": "display_data"
    }
   ],
   "source": [
    "\n",
    "fig,ax = plt.subplots(figsize=(10,8))\n",
    "\n",
    "\n",
    "#adjust tick label font size\n",
    "label_size = 22\n",
    "matplotlib.rcParams['xtick.labelsize'] = label_size \n",
    "matplotlib.rcParams['ytick.labelsize'] = label_size\n",
    "\n",
    "# Plot z = 0\n",
    "plt.plot(np.log10(mh), np.log10(MosterZ0.StellarMass()),\n",
    "         linewidth = 5,color='k',label='z=0')\n",
    "\n",
    "# Continue plotting for the other redshifts here\n",
    "\n",
    "#Plot z = 0.5\n",
    "plt.plot(np.log10(mh), np.log10(MosterZp5.StellarMass()),\n",
    "         linewidth = 5,linestyle='--',label='z=0.5')\n",
    "\n",
    "#Plot z = 1\n",
    "plt.plot(np.log10(mh), np.log10(MosterZ1.StellarMass()),\n",
    "         linewidth = 5,linestyle='-.',label='z=1')\n",
    "\n",
    "#Plot z = 2\n",
    "plt.plot(np.log10(mh), np.log10(MosterZ2.StellarMass()),\n",
    "         linewidth = 5,linestyle=':',color='red',label='z=2')\n",
    "\n",
    "\n",
    "\n",
    "# Axes labels \n",
    "plt.xlabel('log (M$_h$/M$_\\odot$)',fontsize=22) \n",
    "plt.ylabel('log (m$_\\star$/M$_\\odot$)', fontsize=22)\n",
    "\n",
    "# Legend\n",
    "plt.legend(loc='lower right',fontsize='x-large')\n",
    "\n",
    "# save the file \n",
    "plt.savefig('AbundanceMatching_Lab5.png')\n",
    "\n"
   ]
  },
  {
   "cell_type": "markdown",
   "metadata": {},
   "source": [
    "# Part D\n",
    "\n",
    "# Q1\n",
    "\n",
    "In studies that have modeled the Magellanic Clouds prior to 2010, the LMC is traditioanlly modeled with a halo (dark matter) mass of order $3 \\times 10^{10}$M$_\\odot$.  \n",
    "\n",
    "## A) \n",
    "According to $\\Lambda$CDM theory, what should be the stellar mass of the LMC halo be at z=0?  \n",
    "\n",
    "## B) \n",
    "How does this stellar mass compare to the actual observed stellar mass of the LMC at the present day of ~$3 \\times 10^9$ M$_\\odot$ ? \n",
    "\n",
    "## C) \n",
    "What is the $\\Lambda$CDM expected halo mass for the LMC (using Abundance Matching)? "
   ]
  },
  {
   "cell_type": "code",
   "execution_count": 24,
   "metadata": {
    "execution": {
     "iopub.execute_input": "2025-02-25T21:26:10.877939Z",
     "iopub.status.busy": "2025-02-25T21:26:10.877464Z",
     "iopub.status.idle": "2025-02-25T21:26:10.881081Z",
     "shell.execute_reply": "2025-02-25T21:26:10.880639Z",
     "shell.execute_reply.started": "2025-02-25T21:26:10.877920Z"
    }
   },
   "outputs": [],
   "source": [
    "#LMC Halo Mass\n",
    "haloLMC1 = 3e10 #tradtitional madoels\n",
    "#Aboundence mathcing\n",
    "LMC1= AbundanceMatching(haloLMC1,0)"
   ]
  },
  {
   "cell_type": "code",
   "execution_count": 26,
   "metadata": {
    "execution": {
     "iopub.execute_input": "2025-02-25T21:28:12.499714Z",
     "iopub.status.busy": "2025-02-25T21:28:12.499105Z",
     "iopub.status.idle": "2025-02-25T21:28:12.505592Z",
     "shell.execute_reply": "2025-02-25T21:28:12.504966Z",
     "shell.execute_reply.started": "2025-02-25T21:28:12.499688Z"
    }
   },
   "outputs": [
    {
     "name": "stdout",
     "output_type": "stream",
     "text": [
      "0.062\n",
      "2.0527391204538348\n"
     ]
    }
   ],
   "source": [
    "#Find stellar mass\n",
    "LMCstar1 = LMC1.StellarMass()\n",
    "print(round(LMCstar1/1e9,3))\n",
    "\n",
    "print(LMCstar1/3e9*100)"
   ]
  },
  {
   "cell_type": "code",
   "execution_count": 53,
   "metadata": {
    "execution": {
     "iopub.execute_input": "2025-02-25T21:32:38.950519Z",
     "iopub.status.busy": "2025-02-25T21:32:38.950076Z",
     "iopub.status.idle": "2025-02-25T21:32:38.954467Z",
     "shell.execute_reply": "2025-02-25T21:32:38.953692Z",
     "shell.execute_reply.started": "2025-02-25T21:32:38.950489Z"
    }
   },
   "outputs": [],
   "source": [
    "#Say we know the LMC stellar mass = 3e9 Msun\n",
    "#What is the halo mass\n",
    "haloLMC2 = 16.475e10\n",
    "\n",
    "LMC2= AbundanceMatching(haloLMC2,0)"
   ]
  },
  {
   "cell_type": "code",
   "execution_count": 54,
   "metadata": {
    "execution": {
     "iopub.execute_input": "2025-02-25T21:32:40.787820Z",
     "iopub.status.busy": "2025-02-25T21:32:40.787551Z",
     "iopub.status.idle": "2025-02-25T21:32:40.791189Z",
     "shell.execute_reply": "2025-02-25T21:32:40.790581Z",
     "shell.execute_reply.started": "2025-02-25T21:32:40.787804Z"
    }
   },
   "outputs": [
    {
     "name": "stdout",
     "output_type": "stream",
     "text": [
      "3.0\n"
     ]
    }
   ],
   "source": [
    "LMCstar2 = LMC2.StellarMass()\n",
    "print(round(LMCstar2/1e9,3))"
   ]
  },
  {
   "cell_type": "markdown",
   "metadata": {},
   "source": [
    "# Q2\n",
    "\n",
    "## A) \n",
    "What is the expected stellar mass of an L* galaxy at z=0? \n",
    "\n",
    "## B)\n",
    "What is the expected stellar mass of an L* galaxy at z = 2? "
   ]
  },
  {
   "cell_type": "code",
   "execution_count": 55,
   "metadata": {
    "execution": {
     "iopub.execute_input": "2025-02-25T21:35:03.763055Z",
     "iopub.status.busy": "2025-02-25T21:35:03.762606Z",
     "iopub.status.idle": "2025-02-25T21:35:03.767985Z",
     "shell.execute_reply": "2025-02-25T21:35:03.767376Z",
     "shell.execute_reply.started": "2025-02-25T21:35:03.763029Z"
    }
   },
   "outputs": [
    {
     "name": "stdout",
     "output_type": "stream",
     "text": [
      "LogM1,z=0:11.59\n"
     ]
    }
   ],
   "source": [
    "#Find the characrteristic Halo mass at z=0\n",
    "M1halo_z0 = MosterZ0.logM1()\n",
    "print(f'LogM1,z=0:{M1halo_z0}')"
   ]
  },
  {
   "cell_type": "code",
   "execution_count": 56,
   "metadata": {
    "execution": {
     "iopub.execute_input": "2025-02-25T21:37:23.150376Z",
     "iopub.status.busy": "2025-02-25T21:37:23.149996Z",
     "iopub.status.idle": "2025-02-25T21:37:23.154618Z",
     "shell.execute_reply": "2025-02-25T21:37:23.153729Z",
     "shell.execute_reply.started": "2025-02-25T21:37:23.150356Z"
    }
   },
   "outputs": [],
   "source": [
    "#create a new instance for the class, with halo mass=logM1 at z=0\n",
    "\n",
    "M1z0 = AbundanceMatching(10**M1halo_z0,0)"
   ]
  },
  {
   "cell_type": "code",
   "execution_count": 58,
   "metadata": {
    "execution": {
     "iopub.execute_input": "2025-02-25T21:39:34.482853Z",
     "iopub.status.busy": "2025-02-25T21:39:34.482411Z",
     "iopub.status.idle": "2025-02-25T21:39:34.486258Z",
     "shell.execute_reply": "2025-02-25T21:39:34.485780Z",
     "shell.execute_reply.started": "2025-02-25T21:39:34.482833Z"
    }
   },
   "outputs": [
    {
     "name": "stdout",
     "output_type": "stream",
     "text": [
      "Stellar mass of L* gal at z=0: 1.3655484589299245(1e10 Msun)\n"
     ]
    }
   ],
   "source": [
    "#Determine the stellar mass of the halo\n",
    "M1star_z0 = M1z0.StellarMass()\n",
    "print(f'Stellar mass of L* gal at z=0: {M1star_z0/1e10}(1e10 Msun)')"
   ]
  },
  {
   "cell_type": "code",
   "execution_count": 60,
   "metadata": {
    "execution": {
     "iopub.execute_input": "2025-02-25T21:40:27.980361Z",
     "iopub.status.busy": "2025-02-25T21:40:27.979634Z",
     "iopub.status.idle": "2025-02-25T21:40:27.984778Z",
     "shell.execute_reply": "2025-02-25T21:40:27.983982Z",
     "shell.execute_reply.started": "2025-02-25T21:40:27.980332Z"
    }
   },
   "outputs": [
    {
     "name": "stdout",
     "output_type": "stream",
     "text": [
      "LogM1,z=0: 12.386666666666667\n"
     ]
    }
   ],
   "source": [
    "M1halo_z2 = MosterZ2.logM1()\n",
    "print(f'LogM1,z=0: {M1halo_z2}')"
   ]
  },
  {
   "cell_type": "code",
   "execution_count": 63,
   "metadata": {
    "execution": {
     "iopub.execute_input": "2025-02-25T21:42:11.740710Z",
     "iopub.status.busy": "2025-02-25T21:42:11.740426Z",
     "iopub.status.idle": "2025-02-25T21:42:11.743681Z",
     "shell.execute_reply": "2025-02-25T21:42:11.743255Z",
     "shell.execute_reply.started": "2025-02-25T21:42:11.740691Z"
    }
   },
   "outputs": [],
   "source": [
    "M1z2 = AbundanceMatching(10**M1halo_z2,2)"
   ]
  },
  {
   "cell_type": "code",
   "execution_count": 64,
   "metadata": {
    "execution": {
     "iopub.execute_input": "2025-02-25T21:42:14.046597Z",
     "iopub.status.busy": "2025-02-25T21:42:14.046288Z",
     "iopub.status.idle": "2025-02-25T21:42:14.049987Z",
     "shell.execute_reply": "2025-02-25T21:42:14.049566Z",
     "shell.execute_reply.started": "2025-02-25T21:42:14.046575Z"
    }
   },
   "outputs": [
    {
     "name": "stdout",
     "output_type": "stream",
     "text": [
      "Stellar mass of L* gal at z=0: 4.538969033454143(1e10 Msun)\n"
     ]
    }
   ],
   "source": [
    "M1star_z2 = M1z2.StellarMass()\n",
    "print(f'Stellar mass of L* gal at z=0: {M1star_z2/1e10}(1e10 Msun)')"
   ]
  },
  {
   "cell_type": "code",
   "execution_count": null,
   "metadata": {},
   "outputs": [],
   "source": []
  }
 ],
 "metadata": {
  "kernelspec": {
   "display_name": "Python 3 (DL,Py3.10.13)",
   "language": "python",
   "name": "python3"
  },
  "language_info": {
   "codemirror_mode": {
    "name": "ipython",
    "version": 3
   },
   "file_extension": ".py",
   "mimetype": "text/x-python",
   "name": "python",
   "nbconvert_exporter": "python",
   "pygments_lexer": "ipython3",
   "version": "3.10.13"
  }
 },
 "nbformat": 4,
 "nbformat_minor": 4
}
