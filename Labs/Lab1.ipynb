{
 "cells": [
  {
   "cell_type": "markdown",
   "metadata": {},
   "source": [
    "# In Class Lab 1\n",
    "\n",
    "### Due by midnight, thursday in your github repository 'Labs/Lab1' folder\n"
   ]
  },
  {
   "cell_type": "code",
   "execution_count": 110,
   "metadata": {
    "execution": {
     "iopub.execute_input": "2025-01-30T22:14:03.143358Z",
     "iopub.status.busy": "2025-01-30T22:14:03.142881Z",
     "iopub.status.idle": "2025-01-30T22:14:03.148055Z",
     "shell.execute_reply": "2025-01-30T22:14:03.147264Z",
     "shell.execute_reply.started": "2025-01-30T22:14:03.143328Z"
    }
   },
   "outputs": [],
   "source": [
    "# Import Modules \n",
    "import numpy as np # import numpy\n",
    "import astropy.units as u # import astropy units\n",
    "from astropy import constants as const # import astropy constants"
   ]
  },
  {
   "cell_type": "markdown",
   "metadata": {},
   "source": [
    "### Astropy Units:  https://docs.astropy.org/en/stable/units/index.html"
   ]
  },
  {
   "cell_type": "markdown",
   "metadata": {},
   "source": [
    "\n",
    "## Part A:  The Local Standard of Rest\n",
    "Proper motion of Sgr A* from Reid & Brunthaler 2004\n",
    "$\\mu = 6.379$ mas/yr \n",
    "\n",
    "Peculiar motion of the sun, $v_\\odot$ = 12.24 km/s  (Schonrich 2010)\n",
    "\n",
    "\n",
    "$v_{tan} = 4.74 \\frac{\\mu}{\\rm mas/yr} \\frac{R_o}{\\rm kpc} = V_{LSR} + v_\\odot$\n",
    "\n",
    "\n",
    "### a)\n",
    "\n",
    "Create a function called VLSR to compute the local standard of res (V$_{LSR}$).\n",
    "\n",
    "The function should take as input: the solar radius (R$_o$), the proper motion (mu)\n",
    "and the peculiar motion of the sun in the $v_\\odot$ direction.\n",
    "\n",
    "Compute V$_{LSR}$ using three different values R$_o$: \n",
    "1. Water Maser Distance for the Sun :  R$_o$ = 8.34 kpc   (Reid 2014 ApJ 783) \n",
    "2. GRAVITY Collaboration Distance for the Sun:  R$_o$ = 8.178 kpc   (Abuter+2019 A&A 625)\n",
    "3. Value for Distance to Sun listed in Sparke & Gallagher : R$_o$ = 7.9 kpc \n"
   ]
  },
  {
   "cell_type": "code",
   "execution_count": 111,
   "metadata": {
    "execution": {
     "iopub.execute_input": "2025-01-30T22:14:03.165037Z",
     "iopub.status.busy": "2025-01-30T22:14:03.164556Z",
     "iopub.status.idle": "2025-01-30T22:14:03.396306Z",
     "shell.execute_reply": "2025-01-30T22:14:03.395495Z",
     "shell.execute_reply.started": "2025-01-30T22:14:03.165016Z"
    }
   },
   "outputs": [],
   "source": [
    "def VLSR(r_0,mu=6.379,v_sun=12.24*u.km/u.s):\n",
    "    '''\n",
    "    This function will compute the velocity at the local standard of rest \n",
    "    form Reid & Brunthaler 2004\n",
    "\n",
    "    Inputs:\n",
    "        r_0 = Distancre form the sun to the galctic center (units:kpc)\n",
    "        mu = Proper motion of Sag A* (mas/yr) \n",
    "             Default is form Reid & Brunthaler 2004\n",
    "        v_sun = The peciler motion of the sun in the v direction (units:km/s)\n",
    "    Outputs: \n",
    "        VLSR = The local standard of rest (units:km/s)\n",
    "    '''\n",
    "    vlsr = 4.74*mu*(r_0/u.kpc)*u.km/u.s - v_sun\n",
    "    return vlsr\n"
   ]
  },
  {
   "cell_type": "code",
   "execution_count": 112,
   "metadata": {
    "execution": {
     "iopub.execute_input": "2025-01-30T22:14:03.397827Z",
     "iopub.status.busy": "2025-01-30T22:14:03.397576Z",
     "iopub.status.idle": "2025-01-30T22:14:03.431284Z",
     "shell.execute_reply": "2025-01-30T22:14:03.430663Z",
     "shell.execute_reply.started": "2025-01-30T22:14:03.397805Z"
    }
   },
   "outputs": [],
   "source": [
    "#Different values of the distance to the galactic center\n",
    "RoReid = 8.34*u.kpc #Reid 2014\n",
    "RoAubuter = 8.178*u.kpc #GRAVITY Abuter 2019\n",
    "RoSparke = 7.9*u.kpc #Sparke & Gallagher Test\n"
   ]
  },
  {
   "cell_type": "code",
   "execution_count": 113,
   "metadata": {
    "execution": {
     "iopub.execute_input": "2025-01-30T22:14:03.432169Z",
     "iopub.status.busy": "2025-01-30T22:14:03.431945Z",
     "iopub.status.idle": "2025-01-30T22:14:03.463912Z",
     "shell.execute_reply": "2025-01-30T22:14:03.463327Z",
     "shell.execute_reply.started": "2025-01-30T22:14:03.432150Z"
    }
   },
   "outputs": [
    {
     "data": {
      "text/latex": [
       "$239.93208 \\; \\mathrm{\\frac{km}{s}}$"
      ],
      "text/plain": [
       "<Quantity 239.9320764 km / s>"
      ]
     },
     "execution_count": 113,
     "metadata": {},
     "output_type": "execute_result"
    }
   ],
   "source": [
    "#Compute VLSR using Reid 2014\n",
    "VLSR_Reid = VLSR(RoReid)\n",
    "VLSR_Reid #Calls variable"
   ]
  },
  {
   "cell_type": "code",
   "execution_count": 114,
   "metadata": {
    "execution": {
     "iopub.execute_input": "2025-01-30T22:14:03.465490Z",
     "iopub.status.busy": "2025-01-30T22:14:03.464637Z",
     "iopub.status.idle": "2025-01-30T22:14:03.494716Z",
     "shell.execute_reply": "2025-01-30T22:14:03.494078Z",
     "shell.execute_reply.started": "2025-01-30T22:14:03.465471Z"
    }
   },
   "outputs": [
    {
     "name": "stdout",
     "output_type": "stream",
     "text": [
      "235.03376988000002 km / s\n",
      "235.0 km / s\n"
     ]
    },
    {
     "data": {
      "text/latex": [
       "$235.03377 \\; \\mathrm{\\frac{km}{s}}$"
      ],
      "text/plain": [
       "<Quantity 235.03376988 km / s>"
      ]
     },
     "execution_count": 114,
     "metadata": {},
     "output_type": "execute_result"
    }
   ],
   "source": [
    "#Compute VLSR using Aubuter \n",
    "VLSR_Aub = VLSR(RoAubuter)\n",
    "print(VLSR_Aub)  #Calls variable\n",
    "print(np.round(VLSR_Aub))\n",
    "VLSR_Aub"
   ]
  },
  {
   "cell_type": "code",
   "execution_count": 115,
   "metadata": {
    "execution": {
     "iopub.execute_input": "2025-01-30T22:14:03.497121Z",
     "iopub.status.busy": "2025-01-30T22:14:03.496604Z",
     "iopub.status.idle": "2025-01-30T22:14:03.522107Z",
     "shell.execute_reply": "2025-01-30T22:14:03.521413Z",
     "shell.execute_reply.started": "2025-01-30T22:14:03.497100Z"
    }
   },
   "outputs": [
    {
     "data": {
      "text/latex": [
       "$226.62803 \\; \\mathrm{\\frac{km}{s}}$"
      ],
      "text/plain": [
       "<Quantity 226.628034 km / s>"
      ]
     },
     "execution_count": 115,
     "metadata": {},
     "output_type": "execute_result"
    }
   ],
   "source": [
    "#Compute VLSR using Sparke \n",
    "VLSR_Sprk = VLSR(RoSparke)\n",
    "VLSR_Sprk  #Calls variable"
   ]
  },
  {
   "cell_type": "markdown",
   "metadata": {},
   "source": [
    "### b)\n",
    "\n",
    "compute the orbital period of the sun in Gyr using R$_o$ from the GRAVITY Collaboration (assume circular orbit)\n",
    "\n",
    "Note that 1 km/s $\\sim$ 1kpc/Gyr"
   ]
  },
  {
   "cell_type": "code",
   "execution_count": 116,
   "metadata": {
    "execution": {
     "iopub.execute_input": "2025-01-30T22:14:03.523352Z",
     "iopub.status.busy": "2025-01-30T22:14:03.523074Z",
     "iopub.status.idle": "2025-01-30T22:14:03.551257Z",
     "shell.execute_reply": "2025-01-30T22:14:03.550445Z",
     "shell.execute_reply.started": "2025-01-30T22:14:03.523333Z"
    }
   },
   "outputs": [],
   "source": [
    "#Orbital period = 2pir/V\n",
    "def TorbSun(r0,vc):\n",
    "    '''\n",
    "    This function will compute the orbital period of the sun using R_0 from the \n",
    "    gravity collaboration and the orbital velocity of the sun\n",
    "    Inputs:\n",
    "        r0 = [Astropy quantitiy] Distancre form the sun to the galctic center (units:kpc)\n",
    "        vc = [Astropy quantitiy] Velocity of the sun in the \"v\" direction (units:km/s)\n",
    "    Outputs: \n",
    "        p = The period of the sun in Gyr\n",
    "    '''\n",
    "    vkpc_gyr = vc.to(u.kpc/u.Gyr) # converting v to kpc/Gyr\n",
    "    period = (2*np.pi*r0)/vkpc_gyr\n",
    "    return period\n"
   ]
  },
  {
   "cell_type": "code",
   "execution_count": 117,
   "metadata": {
    "execution": {
     "iopub.execute_input": "2025-01-30T22:14:03.552392Z",
     "iopub.status.busy": "2025-01-30T22:14:03.552150Z",
     "iopub.status.idle": "2025-01-30T22:14:03.578874Z",
     "shell.execute_reply": "2025-01-30T22:14:03.578027Z",
     "shell.execute_reply.started": "2025-01-30T22:14:03.552371Z"
    }
   },
   "outputs": [],
   "source": [
    "VsunPec = 12.24*u.km/u.s #perculier motion"
   ]
  },
  {
   "cell_type": "code",
   "execution_count": 118,
   "metadata": {
    "execution": {
     "iopub.execute_input": "2025-01-30T22:14:03.580261Z",
     "iopub.status.busy": "2025-01-30T22:14:03.580002Z",
     "iopub.status.idle": "2025-01-30T22:14:03.606436Z",
     "shell.execute_reply": "2025-01-30T22:14:03.605425Z",
     "shell.execute_reply.started": "2025-01-30T22:14:03.580240Z"
    }
   },
   "outputs": [],
   "source": [
    "Vsun = VLSR_Aub + VsunPec #the total motion of the sun in \"v\" direction"
   ]
  },
  {
   "cell_type": "code",
   "execution_count": 119,
   "metadata": {
    "execution": {
     "iopub.execute_input": "2025-01-30T22:14:03.607848Z",
     "iopub.status.busy": "2025-01-30T22:14:03.607409Z",
     "iopub.status.idle": "2025-01-30T22:14:03.635966Z",
     "shell.execute_reply": "2025-01-30T22:14:03.635206Z",
     "shell.execute_reply.started": "2025-01-30T22:14:03.607820Z"
    }
   },
   "outputs": [
    {
     "data": {
      "text/latex": [
       "$0.20318681 \\; \\mathrm{Gyr}$"
      ],
      "text/plain": [
       "<Quantity 0.20318681 Gyr>"
      ]
     },
     "execution_count": 119,
     "metadata": {},
     "output_type": "execute_result"
    }
   ],
   "source": [
    "#Orbital period of the sun\n",
    "T_Aub = TorbSun(RoAubuter,Vsun)\n",
    "T_Aub"
   ]
  },
  {
   "cell_type": "markdown",
   "metadata": {},
   "source": [
    "### c)\n",
    "\n",
    "Compute the number of rotations about the GC over the age of the universe (13.8 Gyr)"
   ]
  },
  {
   "cell_type": "code",
   "execution_count": 120,
   "metadata": {
    "execution": {
     "iopub.execute_input": "2025-01-30T22:14:03.637567Z",
     "iopub.status.busy": "2025-01-30T22:14:03.636948Z",
     "iopub.status.idle": "2025-01-30T22:14:03.661311Z",
     "shell.execute_reply": "2025-01-30T22:14:03.660482Z",
     "shell.execute_reply.started": "2025-01-30T22:14:03.637544Z"
    }
   },
   "outputs": [
    {
     "name": "stdout",
     "output_type": "stream",
     "text": [
      "67.91779593023313\n"
     ]
    }
   ],
   "source": [
    "AgeUniverse = 13.8*u.Gyr #Units: Gyr\n",
    "print(AgeUniverse/T_Aub)\n"
   ]
  },
  {
   "cell_type": "markdown",
   "metadata": {},
   "source": [
    "## Part B  Dark Matter Density Profiles\n",
    "\n",
    "### a)\n",
    "Try out Fitting Rotation Curves \n",
    "[here](http://wittman.physics.ucdavis.edu/Animations/RotationCurve/GalacticRotation.html)\n",
    "\n",
    "\n",
    "### b)\n",
    "\n",
    "\n",
    "In the Isothermal Sphere model, what is the mass enclosed within the solar radius (R$_o$) in units of M$_\\odot$? \n",
    "\n",
    "Recall that for the Isothermal sphere :\n",
    "$\\rho(r) = \\frac{V_{LSR}^2}{4\\pi G r^2}$\n",
    "\n",
    "Where $G$ = 4.4985e-6 kpc$^3$/Gyr$^2$/M$_\\odot$, r is in kpc and $V_{LSR}$ is in km/s\n",
    "\n",
    "What about at 260 kpc (in units of  M$_\\odot$) ? "
   ]
  },
  {
   "cell_type": "code",
   "execution_count": 121,
   "metadata": {
    "execution": {
     "iopub.execute_input": "2025-01-30T22:14:03.662760Z",
     "iopub.status.busy": "2025-01-30T22:14:03.662318Z",
     "iopub.status.idle": "2025-01-30T22:14:03.691127Z",
     "shell.execute_reply": "2025-01-30T22:14:03.690235Z",
     "shell.execute_reply.started": "2025-01-30T22:14:03.662738Z"
    }
   },
   "outputs": [
    {
     "name": "stdout",
     "output_type": "stream",
     "text": [
      "  Name   = Gravitational constant\n",
      "  Value  = 6.6743e-11\n",
      "  Uncertainty  = 1.5e-15\n",
      "  Unit  = m3 / (kg s2)\n",
      "  Reference = CODATA 2018\n"
     ]
    }
   ],
   "source": [
    "print(const.G)"
   ]
  },
  {
   "cell_type": "code",
   "execution_count": 122,
   "metadata": {
    "execution": {
     "iopub.execute_input": "2025-01-30T22:14:03.692551Z",
     "iopub.status.busy": "2025-01-30T22:14:03.692144Z",
     "iopub.status.idle": "2025-01-30T22:14:03.720645Z",
     "shell.execute_reply": "2025-01-30T22:14:03.719770Z",
     "shell.execute_reply.started": "2025-01-30T22:14:03.692530Z"
    }
   },
   "outputs": [
    {
     "name": "stdout",
     "output_type": "stream",
     "text": [
      "4.498502151469554e-06 kpc3 / (solMass Gyr2)\n"
     ]
    }
   ],
   "source": [
    "Grav = const.G.to(u.kpc**3/u.Gyr**2/u.Msun)\n",
    "print(Grav)"
   ]
  },
  {
   "cell_type": "code",
   "execution_count": 123,
   "metadata": {
    "execution": {
     "iopub.execute_input": "2025-01-30T22:14:03.722125Z",
     "iopub.status.busy": "2025-01-30T22:14:03.721719Z",
     "iopub.status.idle": "2025-01-30T22:14:03.757672Z",
     "shell.execute_reply": "2025-01-30T22:14:03.756782Z",
     "shell.execute_reply.started": "2025-01-30T22:14:03.722101Z"
    }
   },
   "outputs": [],
   "source": [
    "# Density profile rho = VLSR^2/(4*pi*G*R^2)\n",
    "# Mass(r) = Integrate rho dV\n",
    "# Intgreate rho 4*pi*r^2*dr\n",
    "# Integrate VLSR^2/(4*pi*G*r^2)*(4*pi*r^2)dr\n",
    "# Integreate VLSR^2/G dr\n",
    "# (VLSR^2/G)*r\n",
    "\n",
    "def massIso(r,VLSR):\n",
    "    '''\n",
    "    This function will compute the mass enclosed at a given R\n",
    "    Inputs:\n",
    "        r = [Astropy quantitiy] Distancre form the sun to the galctic center (units:kpc)\n",
    "        VLSR = [Astropy quantitiy] Velocity at the local standard of rest (units:km/s)\n",
    "    Outputs: \n",
    "        M = [Astropy quantitiy] Mass enclosed within r (units:Msun)\n",
    "    '''\n",
    "    VLSRkpc_gyr = VLSR.to(u.kpc/u.Gyr)\n",
    "    M = (VLSRkpc_gyr**2/Grav)*r\n",
    "    return M\n"
   ]
  },
  {
   "cell_type": "code",
   "execution_count": 124,
   "metadata": {
    "execution": {
     "iopub.execute_input": "2025-01-30T22:14:03.760931Z",
     "iopub.status.busy": "2025-01-30T22:14:03.760587Z",
     "iopub.status.idle": "2025-01-30T22:14:03.793305Z",
     "shell.execute_reply": "2025-01-30T22:14:03.792391Z",
     "shell.execute_reply.started": "2025-01-30T22:14:03.760910Z"
    }
   },
   "outputs": [
    {
     "name": "stdout",
     "output_type": "stream",
     "text": [
      "105038025820.79904 solMass\n",
      "1.05e+11 solMass\n"
     ]
    }
   ],
   "source": [
    "#Compute the mass enclosed within R0 (Gravity collab)\n",
    "mIsoSolar = massIso(RoAubuter,VLSR_Aub)\n",
    "print(mIsoSolar)\n",
    "print(f\"{mIsoSolar:.2e}\")"
   ]
  },
  {
   "cell_type": "code",
   "execution_count": 125,
   "metadata": {
    "execution": {
     "iopub.execute_input": "2025-01-30T22:14:03.794729Z",
     "iopub.status.busy": "2025-01-30T22:14:03.794480Z",
     "iopub.status.idle": "2025-01-30T22:14:03.844226Z",
     "shell.execute_reply": "2025-01-30T22:14:03.843276Z",
     "shell.execute_reply.started": "2025-01-30T22:14:03.794709Z"
    }
   },
   "outputs": [
    {
     "name": "stdout",
     "output_type": "stream",
     "text": [
      "3.34e+12 solMass\n"
     ]
    }
   ],
   "source": [
    "#Compute the mass enclosed within 260Kpc\n",
    "mIso260 = massIso(260*u.kpc,VLSR_Aub)\n",
    "print(f\"{mIso260:.2e}\")"
   ]
  },
  {
   "cell_type": "markdown",
   "metadata": {},
   "source": [
    "## c) \n",
    "\n",
    "The Leo I satellite is one of the fastest moving satellite galaxies we know. \n",
    "\n",
    "\n",
    "It is moving with 3D velocity of magnitude: Vtot = 196 km/s at a distance of 260 kpc (Sohn 2013 ApJ 768)\n",
    "\n",
    "If we assume that Leo I is moving at the escape speed:\n",
    "\n",
    "$v_{esc}^2 = 2|\\Phi| = 2 \\int G \\frac{\\rho(r)}{r}dV $ \n",
    "\n",
    "and assuming the Milky Way is well modeled by a Hernquist Sphere with a scale radius of $a$= 30 kpc, what is the minimum mass of the Milky Way (in units of M$_\\odot$) ?  \n",
    "\n",
    "How does this compare to estimates of the mass assuming the Isothermal Sphere model at 260 kpc (from your answer above)"
   ]
  },
  {
   "cell_type": "code",
   "execution_count": 126,
   "metadata": {
    "execution": {
     "iopub.execute_input": "2025-01-30T22:14:03.845783Z",
     "iopub.status.busy": "2025-01-30T22:14:03.845379Z",
     "iopub.status.idle": "2025-01-30T22:14:03.881878Z",
     "shell.execute_reply": "2025-01-30T22:14:03.881039Z",
     "shell.execute_reply.started": "2025-01-30T22:14:03.845758Z"
    }
   },
   "outputs": [],
   "source": [
    "# Potential for Hernquist Sphere\n",
    "# Phi = -G*M/(r+a)\n",
    "#\n",
    "# Escape Speed:\n",
    "# vesc^2 = 2*G*M/(r+a)\n",
    "#\n",
    "# Rearrange for M\n",
    "# M = vesc^2/(2*G*(r+a)\n",
    "\n",
    "def massHernVesc(vesc,r,a=30*u.kpc):\n",
    "    '''\n",
    "    This function will compute the total dark matter mass needed \n",
    "    Inputs:\n",
    "        vesc = [Astropy quantity] Escape speed  (units:km/s)\n",
    "        r = [Astropy quantity] Distence form galaxy center (units:kpc)\n",
    "        a = [Astropy quantity] The Herquist scale lenth (units:kps) (Default: 30 kpc)\n",
    "    Outputs: \n",
    "        M = [Astropy quantitiy] Mass enclosed within r (units:Msun)\n",
    "    '''\n",
    "    vescKpcGyr = vesc.to(u.kpc/u.Gyr) #translate to kpc/Gyr\n",
    "    M = vescKpcGyr**2/2/(Grav*(r+a))\n",
    "    return M\n",
    "    "
   ]
  },
  {
   "cell_type": "code",
   "execution_count": 127,
   "metadata": {
    "execution": {
     "iopub.execute_input": "2025-01-30T22:14:03.883419Z",
     "iopub.status.busy": "2025-01-30T22:14:03.883007Z",
     "iopub.status.idle": "2025-01-30T22:14:03.916312Z",
     "shell.execute_reply": "2025-01-30T22:14:03.915488Z",
     "shell.execute_reply.started": "2025-01-30T22:14:03.883396Z"
    }
   },
   "outputs": [],
   "source": [
    "Vleo = 196*u.km/u.s\n",
    "r = 260*u.kpc"
   ]
  },
  {
   "cell_type": "code",
   "execution_count": 128,
   "metadata": {
    "execution": {
     "iopub.execute_input": "2025-01-30T22:14:03.917727Z",
     "iopub.status.busy": "2025-01-30T22:14:03.917293Z",
     "iopub.status.idle": "2025-01-30T22:14:03.945986Z",
     "shell.execute_reply": "2025-01-30T22:14:03.945192Z",
     "shell.execute_reply.started": "2025-01-30T22:14:03.917699Z"
    }
   },
   "outputs": [
    {
     "name": "stdout",
     "output_type": "stream",
     "text": [
      "1.54e+07 solMass / kpc2\n"
     ]
    }
   ],
   "source": [
    "MLeo1 = massHernVesc(Vleo,r)\n",
    "print(f\"{MLeo1:.2e}\")"
   ]
  }
 ],
 "metadata": {
  "kernelspec": {
   "display_name": "Python 3 (DL,Py3.10.13)",
   "language": "python",
   "name": "python3"
  },
  "language_info": {
   "codemirror_mode": {
    "name": "ipython",
    "version": 3
   },
   "file_extension": ".py",
   "mimetype": "text/x-python",
   "name": "python",
   "nbconvert_exporter": "python",
   "pygments_lexer": "ipython3",
   "version": "3.10.13"
  }
 },
 "nbformat": 4,
 "nbformat_minor": 4
}
